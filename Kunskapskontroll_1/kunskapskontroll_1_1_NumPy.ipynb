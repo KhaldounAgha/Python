{
 "cells": [
  {
   "cell_type": "markdown",
   "id": "dacf74e6",
   "metadata": {},
   "source": [
    "# NumPy"
   ]
  },
  {
   "cell_type": "markdown",
   "id": "01b2bf34",
   "metadata": {},
   "source": [
    "Read the links: https://numpy.org/doc/stable/user/quickstart.html  and https://numpy.org/doc/stable/user/basics.broadcasting.html  before solving the exercises. "
   ]
  },
  {
   "cell_type": "code",
   "execution_count": null,
   "id": "1f79e4a6",
   "metadata": {},
   "outputs": [],
   "source": [
    "import numpy as np"
   ]
  },
  {
   "cell_type": "markdown",
   "id": "7dae6889",
   "metadata": {},
   "source": [
    "### Print out the dimension (number of axes), shape, size and the datatype of the matrix A."
   ]
  },
  {
   "cell_type": "code",
   "execution_count": null,
   "id": "7b3678cd",
   "metadata": {},
   "outputs": [],
   "source": [
    "A = np.arange(1,16).reshape(3,5)"
   ]
  },
  {
   "cell_type": "code",
   "execution_count": null,
   "id": "d502d01f",
   "metadata": {},
   "outputs": [],
   "source": [
    "print(f\"Dimensions of the matrix: {A.ndim}\")"
   ]
  },
  {
   "cell_type": "code",
   "execution_count": null,
   "id": "31d39235",
   "metadata": {},
   "outputs": [],
   "source": [
    "print(f\"shape of the matrix: {A.shape}\")"
   ]
  },
  {
   "cell_type": "code",
   "execution_count": null,
   "id": "2180e156",
   "metadata": {},
   "outputs": [],
   "source": [
    "print(f\"Size of the matrix: {A.size}\")"
   ]
  },
  {
   "cell_type": "code",
   "execution_count": null,
   "id": "148ca5ce",
   "metadata": {},
   "outputs": [],
   "source": [
    "print(f\"Size of the matrix: {A.dtype}\")"
   ]
  },
  {
   "cell_type": "markdown",
   "id": "e56d2a96",
   "metadata": {},
   "source": [
    "### Do the following computations on the matrices B and C: \n",
    "* Elementwise subtraction. \n",
    "* Elementwise multiplication. \n",
    "* Matrix multiplication (by default you should use the @ operator)."
   ]
  },
  {
   "cell_type": "code",
   "execution_count": null,
   "id": "a7053fbb",
   "metadata": {},
   "outputs": [],
   "source": [
    "B = np.arange(1, 10).reshape(3, 3)\n",
    "C = np.ones((3, 3))*2\n",
    "\n",
    "print(B, B.shape)\n",
    "print()\n",
    "print(C, C.shape)"
   ]
  },
  {
   "cell_type": "code",
   "execution_count": null,
   "id": "3cd794ae",
   "metadata": {},
   "outputs": [],
   "source": [
    "# Elementwise subtraction.\n",
    "print(B-C)"
   ]
  },
  {
   "cell_type": "code",
   "execution_count": null,
   "id": "1127c274",
   "metadata": {},
   "outputs": [],
   "source": [
    "# Elementwise multiplication.\n",
    "print(B*C)"
   ]
  },
  {
   "cell_type": "code",
   "execution_count": null,
   "id": "d867842c",
   "metadata": {},
   "outputs": [],
   "source": [
    "# Matrix multiplication\n",
    "print(B @ C)"
   ]
  },
  {
   "cell_type": "markdown",
   "id": "96030d53",
   "metadata": {},
   "source": [
    "### Do the following calculations on the matrix:\n",
    "* Exponentiate each number elementwise (use the np.exp function).\n",
    "\n",
    "* Calculate the minimum value in the whole matrix. \n",
    "* Calculcate the minimum value in each row. \n",
    "* Calculcate the minimum value in each column. \n",
    "\n",
    "\n",
    "* Find the index value for the minimum value in the whole matrix (hint: use np.argmin).\n",
    "* Find the index value for the minimum value in each row (hint: use np.argmin).\n",
    "\n",
    "\n",
    "* Calculate the sum for all elements.\n",
    "* Calculate the mean for each column. \n",
    "* Calculate the median for each column. "
   ]
  },
  {
   "cell_type": "code",
   "execution_count": null,
   "id": "f8a9166b",
   "metadata": {},
   "outputs": [],
   "source": [
    "B = np.arange(1, 10).reshape(3, 3)\n",
    "print(B)"
   ]
  },
  {
   "cell_type": "code",
   "execution_count": null,
   "id": "f03f24f7",
   "metadata": {},
   "outputs": [],
   "source": [
    "# Exponentiate each number elementwise (use the np.exp function).\n",
    "print(np.exp(B))"
   ]
  },
  {
   "cell_type": "code",
   "execution_count": null,
   "id": "0bcc0ee3",
   "metadata": {},
   "outputs": [],
   "source": [
    "# Calculate the minimum value in the whole matrix.\n",
    "print(np.min(B))"
   ]
  },
  {
   "cell_type": "code",
   "execution_count": null,
   "id": "7478e869",
   "metadata": {},
   "outputs": [],
   "source": [
    "# Calculcate the minimum value in each row.\n",
    "print(np.min(B, axis=1))"
   ]
  },
  {
   "cell_type": "code",
   "execution_count": null,
   "id": "48608be0",
   "metadata": {},
   "outputs": [],
   "source": [
    "# Calculcate the minimum value in each column.\n",
    "print(np.min(B, axis=0))"
   ]
  },
  {
   "cell_type": "code",
   "execution_count": null,
   "id": "abc14edf",
   "metadata": {},
   "outputs": [],
   "source": [
    "# Find the index value for the minimum value in the whole matrix (hint: use np.argmin) ???????????????\n",
    "print(np.argmin(B))"
   ]
  },
  {
   "cell_type": "code",
   "execution_count": null,
   "id": "c64ea92e",
   "metadata": {},
   "outputs": [],
   "source": [
    "# Find the index value for the minimum value in each row (hint: use np.argmin).\n",
    "im_row = np.argmin(B, axis=1)\n",
    "im_col = np.argmin(B, axis=0)\n",
    "print(\"The index value for the minimum value in each row: \",im_row)\n",
    "print(\"The index value for the minimum value in each column: \",im_col)"
   ]
  },
  {
   "cell_type": "code",
   "execution_count": null,
   "id": "8477aa04",
   "metadata": {},
   "outputs": [],
   "source": [
    "# Calculate the sum for all elements.\n",
    "print(np.sum(B))"
   ]
  },
  {
   "cell_type": "code",
   "execution_count": null,
   "id": "36d13c20",
   "metadata": {},
   "outputs": [],
   "source": [
    "# Calculate the mean for each column.\n",
    "print(np.mean(B, axis=0))"
   ]
  },
  {
   "cell_type": "code",
   "execution_count": null,
   "id": "7ad9a6bd",
   "metadata": {},
   "outputs": [],
   "source": [
    "# Calculate the median for each column.\n",
    "print(np.median(B, axis=0))"
   ]
  },
  {
   "cell_type": "markdown",
   "id": "541eb7ba",
   "metadata": {},
   "source": [
    "### What does it mean when you provide fewer indices than axes when slicing? See example below."
   ]
  },
  {
   "cell_type": "code",
   "execution_count": null,
   "id": "9c8abf56",
   "metadata": {},
   "outputs": [],
   "source": [
    "print(A)"
   ]
  },
  {
   "cell_type": "code",
   "execution_count": null,
   "id": "69415f7b",
   "metadata": {},
   "outputs": [],
   "source": [
    "A[1]"
   ]
  },
  {
   "cell_type": "markdown",
   "id": "6c53541b",
   "metadata": {},
   "source": [
    "**Answer:**"
   ]
  },
  {
   "cell_type": "code",
   "execution_count": null,
   "id": "de01e120",
   "metadata": {},
   "outputs": [],
   "source": [
    "print(\"\"\"Betyder att vi väljer hela raden (i detta fall den andra raden) \n",
    "utan att specificera vilka kolumner du vill extrahera.\"\"\")"
   ]
  },
  {
   "cell_type": "markdown",
   "id": "6652d0c9",
   "metadata": {},
   "source": [
    "### Iterating over multidimensional arrays is done with respect to the first axis, so in the example below we iterate trough the rows. If you would like to iterate through the array *elementwise*, how would you do that?"
   ]
  },
  {
   "cell_type": "code",
   "execution_count": null,
   "id": "9459864f",
   "metadata": {},
   "outputs": [],
   "source": [
    "print(A)"
   ]
  },
  {
   "cell_type": "code",
   "execution_count": null,
   "id": "a671bb5a",
   "metadata": {},
   "outputs": [],
   "source": [
    "for i in A:\n",
    "    print(i)"
   ]
  },
  {
   "cell_type": "code",
   "execution_count": null,
   "id": "f4e443a0",
   "metadata": {},
   "outputs": [],
   "source": [
    "## iterate trough the columns\n",
    "row, column = A.shape\n",
    "\n",
    "for i in range(0, column):\n",
    "    for e in range(0, row):\n",
    "        print (A[e, i], f\"where A[{e},{i}]\")"
   ]
  },
  {
   "cell_type": "markdown",
   "id": "608a2583",
   "metadata": {},
   "source": [
    "### Explain what the code below does. More specifically, b has three axes - what does this mean? "
   ]
  },
  {
   "cell_type": "code",
   "execution_count": null,
   "id": "f8f9b26f",
   "metadata": {},
   "outputs": [],
   "source": [
    "a = np.arange(30)\n",
    "b = a.reshape((2, 3, -1))\n",
    "print(a)\n",
    "print()\n",
    "print(b)"
   ]
  },
  {
   "cell_type": "code",
   "execution_count": null,
   "id": "863a45df",
   "metadata": {},
   "outputs": [],
   "source": [
    "a = np.arange(30) \n",
    "c=a.reshape(2, 3, -1)\n",
    "print(f\"\"\"[np.arange(30)] creates a 1 dimension array:\n",
    "a = {a}\n",
    "\n",
    "[b = a.reshape((2, 3, -1))] is used to reshape the 1D array into a 3D array: \n",
    "{b}\n",
    "\n",
    "[b] has three axes defined by (2, 3, -1) \n",
    "The first axis has a size of 2\n",
    "The second axis has a size of 3\n",
    "The size of the third axis is determined depending on the total number of \n",
    "elements in [a] array and the sizes of the other dimensions. \n",
    "The -1 facilitates automatic determination for this dimension.\"\"\")\n",
    "d = np.arange(30) \n",
    "e=d.reshape(2, 5, -1)\n",
    "print(f\"\"\"Example: using d.reshape((2, 5, -1)) and the result will automatically be:\n",
    "{e} \"\"\")"
   ]
  },
  {
   "cell_type": "code",
   "execution_count": null,
   "id": "002c2e68",
   "metadata": {},
   "outputs": [],
   "source": []
  },
  {
   "cell_type": "markdown",
   "id": "ab5933d5",
   "metadata": {},
   "source": [
    "### Broadcasting\n",
    "**Read the following link about broadcasting: https://numpy.org/doc/stable/user/basics.broadcasting.html#basics-broadcasting**"
   ]
  },
  {
   "cell_type": "markdown",
   "id": "039805ba",
   "metadata": {},
   "source": [
    "# Remark on Broadcasting when doing Linear Algebra calculations in Python. "
   ]
  },
  {
   "cell_type": "markdown",
   "id": "c4bcc147",
   "metadata": {},
   "source": [
    "### From the mathematical rules of matrix addition, the operation below (m1 + m2) does not make sense. The reason is that matrix addition requires two matrices of the same size. In Python however, it works due to broadcasting rules in NumPy. So you must be careful when doing Linear Algebra calculations in Python since they do not follow the \"mathematical rules\". This can however easily be handled by doing some simple programming, for example validating that two matrices have the same shape is easy if you for instance want to add two matrices. "
   ]
  },
  {
   "cell_type": "code",
   "execution_count": null,
   "id": "1fd46778",
   "metadata": {},
   "outputs": [],
   "source": [
    "m1 = np.array([[1, 2], [3, 4]])\n",
    "m2 = np.array([1, 1])\n",
    "print(m1 + m2)"
   ]
  },
  {
   "cell_type": "markdown",
   "id": "047d6576",
   "metadata": {},
   "source": [
    "### The example below would also not be allowed if following the \"mathematical rules\" in Linear Algebra. But it works due to broadcasting in NumPy. "
   ]
  },
  {
   "cell_type": "code",
   "execution_count": null,
   "id": "5e6ef2e4",
   "metadata": {},
   "outputs": [],
   "source": [
    "v1 = np.array([1, 2, 3])\n",
    "print(v1 + 1)"
   ]
  },
  {
   "cell_type": "code",
   "execution_count": null,
   "id": "e2cbae26",
   "metadata": {},
   "outputs": [],
   "source": [
    "A = np.arange(1, 5).reshape(2,2)\n",
    "print(A)\n",
    "\n",
    "b = np.array([2, 2])\n",
    "print(b)\n",
    "print(A+b)"
   ]
  },
  {
   "cell_type": "markdown",
   "id": "722fd5cd",
   "metadata": {},
   "source": [
    "# Linear Algebra Exercises"
   ]
  },
  {
   "cell_type": "markdown",
   "id": "b8935099",
   "metadata": {},
   "source": [
    "The exercies are taken from the \"Matrix Algebra for Engineers\" by Chasnov: https://www.math.hkust.edu.hk/~machas/matrix-algebra-for-engineers.pdf .\n",
    "\n",
    "Do the following exercises: \n",
    "* Chapter 2, exercise 1-3.\n",
    "* Quiz on p.11, exercise 2. \n",
    "* Chapter 6, exercise 1. \n",
    "* Quiz on p.19, exercise 3. \n",
    "\n",
    "\n",
    "* Chapter 10, exercise 1. \n",
    "* Chapter 12 exercise 1. \n"
   ]
  },
  {
   "cell_type": "code",
   "execution_count": null,
   "id": "a452a77a",
   "metadata": {},
   "outputs": [],
   "source": [
    "A = np.array([[2, 1, -1], [1, -1, 1]])\n",
    "B = np.array([[4, -2, 1], [2, -4, -2]])\n",
    "\n",
    "C = np.array([[1, 2], [2, 1]])\n",
    "D = np.array([[3, 4], [4, 3]])\n",
    "\n",
    "E = np.array([[1], [2]])\n",
    "\n",
    "print(A)\n",
    "print(B)\n",
    "print(C)\n",
    "print(D)\n",
    "print(E)"
   ]
  },
  {
   "cell_type": "markdown",
   "id": "9d8366cc",
   "metadata": {},
   "source": [
    "**Chap2. Question 1.**\n",
    "\n",
    "**Write a function \"add_mult_matrices\" that takes two matrices as input arguments (validate that the input are of the type numpy.ndarray by using the isinstance function), a third argument that is either 'add' or 'multiply' that specifies if you want to add or multiply the matrices (validate that the third argument is either 'add' or 'multiply'). When doing matrix addition, validate that the matrices have the same size. When doing matrix multiplication, validate that the sizes conform (i.e. number of columns in the first matrix is equal to the number of rows in the second matrix).**\n",
    "\n",
    "In this exercise, create a function that takes two matrices as input and either adds or multiplies them by specifying a argument as either 'add' or 'multiply'. Validate that both matrices taken as input are of the type ndarray (use the isinstance function)."
   ]
  },
  {
   "cell_type": "code",
   "execution_count": null,
   "id": "535ee48c",
   "metadata": {},
   "outputs": [],
   "source": [
    "def add_mult_matrices(m_1, m_2, op):\n",
    "    import numpy as np\n",
    "    if not (isinstance(m_1, np.ndarray)):\n",
    "        raise ValueError(\"Matrix 1 is not of type ndarray!\")\n",
    "    if not (isinstance(m_2, np.ndarray)):\n",
    "        raise ValueError(\"Matrix 2 is not of type ndarray!\")\n",
    "    if op not in ('add', 'multiply'):\n",
    "        raise ValueError(\"It must be 'add' or 'multiply' operator!\")\n",
    "\n",
    "    if op == 'add':\n",
    "        if m_1.shape != m_2.shape:\n",
    "            raise ValueError(\"Matrices have not the same shape!\")\n",
    "        r = m_1 + m_2\n",
    "    else:\n",
    "        if m_1.shape[1] != m_2.shape[0]:\n",
    "            raise ValueError(\"Matrices do not conform for multiplication!\")\n",
    "        r = m_1 @ m_2\n",
    "\n",
    "    return r\n"
   ]
  },
  {
   "cell_type": "code",
   "execution_count": null,
   "id": "523eaf94",
   "metadata": {},
   "outputs": [],
   "source": [
    "print(add_mult_matrices(C, D, \"add\"))"
   ]
  },
  {
   "cell_type": "code",
   "execution_count": null,
   "id": "87d30ac4",
   "metadata": {},
   "outputs": [],
   "source": [
    "print(add_mult_matrices(C, D, \"multiply\"))"
   ]
  },
  {
   "cell_type": "markdown",
   "id": "5000c829",
   "metadata": {},
   "source": [
    "**Chap2. Question 2**"
   ]
  },
  {
   "cell_type": "code",
   "execution_count": null,
   "id": "44dab740",
   "metadata": {},
   "outputs": [],
   "source": [
    "print(add_mult_matrices(B, (-2)*A, \"add\"))"
   ]
  },
  {
   "cell_type": "code",
   "execution_count": null,
   "id": "395700f2",
   "metadata": {},
   "outputs": [],
   "source": [
    "print(add_mult_matrices((3*C), ((-1)*E), \"add\"))"
   ]
  },
  {
   "cell_type": "code",
   "execution_count": null,
   "id": "7e427f00",
   "metadata": {},
   "outputs": [],
   "source": [
    "print(add_mult_matrices(A, C, \"multiply\"))"
   ]
  },
  {
   "cell_type": "code",
   "execution_count": null,
   "id": "69a010a7",
   "metadata": {},
   "outputs": [],
   "source": [
    "print(add_mult_matrices(C, D, \"multiply\"))"
   ]
  },
  {
   "cell_type": "code",
   "execution_count": null,
   "id": "adf360e8",
   "metadata": {},
   "outputs": [],
   "source": [
    "print(add_mult_matrices(C, B, \"multiply\"))"
   ]
  },
  {
   "cell_type": "markdown",
   "id": "a7f5b140",
   "metadata": {},
   "source": [
    "**Chap2. Question 3**"
   ]
  },
  {
   "cell_type": "code",
   "execution_count": null,
   "id": "668b1323",
   "metadata": {},
   "outputs": [],
   "source": [
    "A = np.array([[1, 1, 1], [1, 2, 3], [1, 3, 4]])\n",
    "D = np.array([[2, 0, 0], [0, 3, 0], [0, 0, 4]])"
   ]
  },
  {
   "cell_type": "code",
   "execution_count": null,
   "id": "2fb38dd8",
   "metadata": {},
   "outputs": [],
   "source": [
    "print(add_mult_matrices(A, D, \"multiply\"))"
   ]
  },
  {
   "cell_type": "code",
   "execution_count": null,
   "id": "d387db31",
   "metadata": {},
   "outputs": [],
   "source": [
    "print(add_mult_matrices(D, A, \"multiply\"))"
   ]
  },
  {
   "cell_type": "markdown",
   "id": "334ca623",
   "metadata": {},
   "source": [
    "**Quiz p.11, Question 2**"
   ]
  },
  {
   "cell_type": "code",
   "execution_count": null,
   "id": "b031a786",
   "metadata": {},
   "outputs": [],
   "source": []
  },
  {
   "cell_type": "markdown",
   "id": "fbfb4124",
   "metadata": {},
   "source": [
    "**Chap 6. Question 1**"
   ]
  },
  {
   "cell_type": "code",
   "execution_count": null,
   "id": "9c68d160",
   "metadata": {},
   "outputs": [],
   "source": [
    "F = np.array([[5, 6], [4, 5]])\n",
    "G = np.array([[6, 4], [3, 3]])\n",
    "print(np.linalg.inv(F))\n",
    "print(np.linalg.inv(G))"
   ]
  },
  {
   "cell_type": "markdown",
   "id": "574b6d18",
   "metadata": {},
   "source": [
    "**Quiz p.19, Question 3**"
   ]
  },
  {
   "cell_type": "code",
   "execution_count": null,
   "id": "c4cc11eb",
   "metadata": {},
   "outputs": [],
   "source": []
  },
  {
   "cell_type": "markdown",
   "id": "5de93779",
   "metadata": {},
   "source": [
    "**Chap10. Question 1 a)**"
   ]
  },
  {
   "cell_type": "code",
   "execution_count": null,
   "id": "e9a63544",
   "metadata": {},
   "outputs": [],
   "source": [
    "J = np.array([[3, -7, -2], [-3, 5, 1], [6, -4, 0]])\n",
    "K = np.array([-7, 5, 2])\n",
    "print(np.linalg.solve(J, K))"
   ]
  },
  {
   "cell_type": "markdown",
   "id": "3f49e9e1",
   "metadata": {},
   "source": [
    "**Chap10. Question 1 b)**"
   ]
  },
  {
   "cell_type": "code",
   "execution_count": null,
   "id": "6f6e72fb",
   "metadata": {},
   "outputs": [],
   "source": [
    "M = np.array([[1, -2, 3], [-1, 3, -1], [2, -5, 5]])\n",
    "N = np.array([1, -1, 1])\n",
    "print(np.linalg.solve(M, N))"
   ]
  },
  {
   "cell_type": "markdown",
   "id": "beb0a8af",
   "metadata": {},
   "source": [
    "**Chap 12. Question 1**"
   ]
  },
  {
   "cell_type": "code",
   "execution_count": null,
   "id": "4fe15c46",
   "metadata": {},
   "outputs": [],
   "source": [
    "W = np.array([[3, -7, -2], [-3, 5, 1], [6, -4, 0]])\n",
    "print(np.linalg.inv(W))"
   ]
  },
  {
   "cell_type": "markdown",
   "id": "6a4a524f",
   "metadata": {},
   "source": [
    "### Copies and Views\n",
    "Read the following link: https://numpy.org/doc/stable/user/basics.copies.html"
   ]
  },
  {
   "cell_type": "markdown",
   "id": "6cbbeaf7",
   "metadata": {},
   "source": [
    "**Basic indexing creates a view, How can you check if v1 and v2 is a view or copy? If you change the last element in v2 to 123, will the last element in v1 be changed? Why?**"
   ]
  },
  {
   "cell_type": "code",
   "execution_count": 64,
   "id": "5b9ef4df",
   "metadata": {},
   "outputs": [
    {
     "name": "stdout",
     "output_type": "stream",
     "text": [
      "[0 1 2 3]\n",
      "[2 3]\n"
     ]
    }
   ],
   "source": [
    "v1 = np.arange(4)\n",
    "v2 = v1[-2:]\n",
    "print(v1)\n",
    "print(v2)"
   ]
  },
  {
   "cell_type": "code",
   "execution_count": 65,
   "id": "d2440489",
   "metadata": {},
   "outputs": [
    {
     "name": "stdout",
     "output_type": "stream",
     "text": [
      "None\n",
      "[0 1 2 3]\n"
     ]
    }
   ],
   "source": [
    "# The base attribute of a view returns the original array while it returns None for a copy.\n",
    "print(v1.base)\n",
    "print(v2.base)"
   ]
  },
  {
   "cell_type": "code",
   "execution_count": 66,
   "id": "c8752807",
   "metadata": {},
   "outputs": [
    {
     "name": "stdout",
     "output_type": "stream",
     "text": [
      "[  0   1   2 123]\n",
      "[  2 123]\n"
     ]
    }
   ],
   "source": [
    "# The last element in v1 will be changed aswell since v2 is a view, meaning they share the same data buffer.\n",
    "v2[-1] = 123\n",
    "print(v1)\n",
    "print(v2)"
   ]
  },
  {
   "cell_type": "code",
   "execution_count": null,
   "id": "3dd68221",
   "metadata": {},
   "outputs": [],
   "source": []
  }
 ],
 "metadata": {
  "kernelspec": {
   "display_name": "Python 3 (ipykernel)",
   "language": "python",
   "name": "python3"
  },
  "language_info": {
   "codemirror_mode": {
    "name": "ipython",
    "version": 3
   },
   "file_extension": ".py",
   "mimetype": "text/x-python",
   "name": "python",
   "nbconvert_exporter": "python",
   "pygments_lexer": "ipython3",
   "version": "3.11.5"
  }
 },
 "nbformat": 4,
 "nbformat_minor": 5
}
