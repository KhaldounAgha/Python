{
 "cells": [
  {
   "cell_type": "markdown",
   "id": "b540290b",
   "metadata": {},
   "source": [
    "# Pandas\n",
    "Read \"10 minutes to Pandas\": https://pandas.pydata.org/docs/user_guide/10min.html before solving the exercises.\n",
    "We will use the data set \"cars_data\" in the exercises below. "
   ]
  },
  {
   "cell_type": "code",
   "execution_count": null,
   "id": "fa266ee4",
   "metadata": {},
   "outputs": [],
   "source": [
    "# Importing Pandas. \n",
    "import pandas as pd"
   ]
  },
  {
   "cell_type": "markdown",
   "id": "addb587b",
   "metadata": {},
   "source": [
    "### Explain what a CSV file is."
   ]
  },
  {
   "cell_type": "code",
   "execution_count": null,
   "id": "6047c36f",
   "metadata": {},
   "outputs": [],
   "source": [
    "# Brief explanation of CSV files:\n",
    "\n",
    "print(\"\"\"A CSV (Comma-Separated Values) file is a plain text file format. It is used to store and exchange tabular data, \n",
    "such as spreadsheets or databases, in a simple way. \n",
    "In a CSV file, each line represents a row of data, and each field (or column) within a row is separated by a comma.\"\"\")"
   ]
  },
  {
   "cell_type": "markdown",
   "id": "5c61e5d9",
   "metadata": {},
   "source": [
    "### Load the data set \"cars_data\" through Pandas. "
   ]
  },
  {
   "cell_type": "code",
   "execution_count": null,
   "id": "91923010",
   "metadata": {},
   "outputs": [],
   "source": [
    "# When reading in the data, either you have the data file in the same folder as your python script\n",
    "# or in a seperate folder.\n",
    "\n",
    "# Code below can be ran if you have the data file in the same folder as the script\n",
    "# cars = pd.read_csv(\"cars_data.csv\")\n",
    "\n",
    "# Code below can be ran if you have the data file in another script. \n",
    "# Notice, you must change the path according to where you have the data in your computer. \n",
    "# pd.read_csv(r'C:\\Users\\Antonio Prgomet\\Documents\\ec_utbildning\\kursframstallning\\ds23\\python_stat\\exercises\\numpy_matplot_pandas\\cars_data.csv')"
   ]
  },
  {
   "cell_type": "code",
   "execution_count": null,
   "id": "a32dee04",
   "metadata": {},
   "outputs": [],
   "source": [
    "# Loading the data set \"cars_data\" through Pandas\n",
    "# Using r\"\" to escape backslashes (\\) in the file path string and creating a DataFrame (df)\n",
    "\n",
    "file_path = \"C:\\\\USB\\\\cars_data.csv\"\n",
    "df = pd.read_csv(file_path)\n",
    "\n",
    "# Printing the DataFrame (df)\n",
    "print(df.to_string())"
   ]
  },
  {
   "cell_type": "markdown",
   "id": "b9ac1d06",
   "metadata": {},
   "source": [
    "### Print the first 10 rows of the data. "
   ]
  },
  {
   "cell_type": "code",
   "execution_count": null,
   "id": "2886ff8e",
   "metadata": {},
   "outputs": [],
   "source": [
    "# Printing the first 10 rows using head() \n",
    "print(df.head(10).to_string())"
   ]
  },
  {
   "cell_type": "code",
   "execution_count": null,
   "id": "61577a10",
   "metadata": {},
   "outputs": [],
   "source": [
    "# Printing the first 10 rows by slicing through the DataFrame\n",
    "print(df[0:10].to_string())"
   ]
  },
  {
   "cell_type": "code",
   "execution_count": null,
   "id": "3b0ddacf",
   "metadata": {},
   "outputs": [],
   "source": [
    "# Printing the first 10 rows by iloc() to get the values associated with index range (0:10)\n",
    "print(df.iloc[0:10].to_string())"
   ]
  },
  {
   "cell_type": "markdown",
   "id": "ec02774b",
   "metadata": {},
   "source": [
    "### Print the last 5 rows. "
   ]
  },
  {
   "cell_type": "code",
   "execution_count": null,
   "id": "437d158f",
   "metadata": {},
   "outputs": [],
   "source": [
    "# Printing the last 10 rows by using tail()\n",
    "print(df.tail(10).to_string())"
   ]
  },
  {
   "cell_type": "code",
   "execution_count": null,
   "id": "37dcf7da",
   "metadata": {},
   "outputs": [],
   "source": [
    "# Printing the last 10 rows by slicing through the DataFrame\n",
    "print(df[-10:].to_string())"
   ]
  },
  {
   "cell_type": "code",
   "execution_count": null,
   "id": "77b0ff9a",
   "metadata": {},
   "outputs": [],
   "source": [
    "# Printing the last 10 rows by iloc() to get the values associated with index range (-10:)\n",
    "print(df.iloc[-10:].to_string())"
   ]
  },
  {
   "cell_type": "markdown",
   "id": "e0cd9329",
   "metadata": {},
   "source": [
    "### By using the info method, check how many non-null rows each column have. "
   ]
  },
  {
   "cell_type": "code",
   "execution_count": null,
   "id": "efe71f5f",
   "metadata": {},
   "outputs": [],
   "source": [
    "# Using the info method to check how many non-null rows each column have\n",
    "print(df.info())"
   ]
  },
  {
   "cell_type": "markdown",
   "id": "887f8c9c",
   "metadata": {},
   "source": [
    "### If any column has a missing value, drop the entire row. Notice, the operation should be inplace meaning you change the dataframe itself."
   ]
  },
  {
   "cell_type": "code",
   "execution_count": null,
   "id": "60b660dc",
   "metadata": {},
   "outputs": [],
   "source": [
    "# Droping the entire row if the row has a missing value (inplace operation)\n",
    "df.dropna(inplace=True)\n",
    "print(df.info())"
   ]
  },
  {
   "cell_type": "markdown",
   "id": "614eeffe",
   "metadata": {},
   "source": [
    "### Calculate the mean of each numeric column. "
   ]
  },
  {
   "cell_type": "code",
   "execution_count": null,
   "id": "49e06c7c",
   "metadata": {},
   "outputs": [],
   "source": [
    "m = df.mean(numeric_only=True)\n",
    "print(m.to_string())"
   ]
  },
  {
   "cell_type": "markdown",
   "id": "f4f79bfd",
   "metadata": {},
   "source": [
    "### Select the rows where the column \"company\" is equal to 'honda'. "
   ]
  },
  {
   "cell_type": "code",
   "execution_count": null,
   "id": "1e373079",
   "metadata": {},
   "outputs": [],
   "source": [
    "# Selecting the rows where the column \"company\" is equal to 'honda'.\n",
    "s = df[df[\"company\"] == \"honda\"]\n",
    "print(s.to_string())"
   ]
  },
  {
   "cell_type": "markdown",
   "id": "0a3543eb",
   "metadata": {},
   "source": [
    "### Sort the data set by price in descending order. This should *not* be an inplace operation. "
   ]
  },
  {
   "cell_type": "code",
   "execution_count": null,
   "id": "8455abaa",
   "metadata": {},
   "outputs": [],
   "source": [
    "# Sorting the data set by price in descending order.\n",
    "df.sort_values(by=\"price\", ascending=False)"
   ]
  },
  {
   "cell_type": "markdown",
   "id": "1527f255",
   "metadata": {},
   "source": [
    "### Select the rows where the column \"company\" is equal to any of the values (audi, bmw, porsche)."
   ]
  },
  {
   "cell_type": "code",
   "execution_count": null,
   "id": "60e300ae",
   "metadata": {},
   "outputs": [],
   "source": [
    "# Select the rows using or operator (|)\n",
    "df[(df['company'] == \"audi\") | (df['company'] == \"bmw\") | (df['company'] == \"porsche\")]"
   ]
  },
  {
   "cell_type": "code",
   "execution_count": null,
   "id": "48e66b22",
   "metadata": {},
   "outputs": [],
   "source": [
    "# Select the rows using isin()\n",
    "df[df[\"company\"].isin([\"audi\", \"bmw\", \"porsche\"])]"
   ]
  },
  {
   "cell_type": "markdown",
   "id": "3ce133eb",
   "metadata": {},
   "source": [
    "### Find the number of cars (rows) for each company. "
   ]
  },
  {
   "cell_type": "code",
   "execution_count": null,
   "id": "7e6a9d43",
   "metadata": {},
   "outputs": [],
   "source": [
    "# Finding the number of cars for each company\n",
    "print(df[\"company\"].value_counts())"
   ]
  },
  {
   "cell_type": "markdown",
   "id": "5beef62f",
   "metadata": {},
   "source": [
    "### Find the maximum price for each company. "
   ]
  },
  {
   "cell_type": "code",
   "execution_count": null,
   "id": "d91dc8be",
   "metadata": {},
   "outputs": [],
   "source": [
    "# Finding the maximum price for each company\n",
    "df.groupby(\"company\")[\"price\"].max()"
   ]
  },
  {
   "cell_type": "code",
   "execution_count": null,
   "id": "cec97941",
   "metadata": {},
   "outputs": [],
   "source": []
  }
 ],
 "metadata": {
  "kernelspec": {
   "display_name": "Python 3 (ipykernel)",
   "language": "python",
   "name": "python3"
  },
  "language_info": {
   "codemirror_mode": {
    "name": "ipython",
    "version": 3
   },
   "file_extension": ".py",
   "mimetype": "text/x-python",
   "name": "python",
   "nbconvert_exporter": "python",
   "pygments_lexer": "ipython3",
   "version": "3.11.5"
  }
 },
 "nbformat": 4,
 "nbformat_minor": 5
}
